{
 "cells": [
  {
   "cell_type": "markdown",
   "id": "c68ec115",
   "metadata": {},
   "source": [
    "# Homework 4\n",
    "\n",
    "_Author:_ Muhammed Fatih Öztel\n",
    "\n",
    "_ID:_ 150119907\n"
   ]
  },
  {
   "cell_type": "code",
   "execution_count": 1,
   "id": "0319361f",
   "metadata": {},
   "outputs": [],
   "source": [
    "import numpy as np\n",
    "from sklearn import svm\n",
    "import sklearn as sk"
   ]
  },
  {
   "cell_type": "markdown",
   "id": "cb916ac1",
   "metadata": {},
   "source": [
    "# SVM with Soft Margins\n"
   ]
  },
  {
   "cell_type": "code",
   "execution_count": 2,
   "id": "2b3f8b18",
   "metadata": {},
   "outputs": [],
   "source": [
    "train_data = np.loadtxt(\"features.train.txt\") # load train and test data with numpy\n",
    "test_data = np.loadtxt(\"features.test.txt\")"
   ]
  },
  {
   "cell_type": "markdown",
   "id": "ecbe3949",
   "metadata": {},
   "source": [
    "## Question 2 "
   ]
  },
  {
   "cell_type": "code",
   "execution_count": 3,
   "id": "1169d23b",
   "metadata": {},
   "outputs": [
    {
     "name": "stdout",
     "output_type": "stream",
     "text": [
      "(0.10588396653408312, 0)\n"
     ]
    }
   ],
   "source": [
    "def nVSall(n, dataset):\n",
    "    isN = dataset[:,0] == n # get the related labeled samples as true\n",
    "    X = dataset.copy() # get a copy\n",
    "    X[:,0] = 1.0 # set the first colums as 1 like a bias\n",
    "    y = 2*isN - 1 # set -1 if it is not n if is n let it be 1\n",
    "    return X, y # retrun the x and y label\n",
    "final_ein2=[]\n",
    "l_2 = [0,2,4,6,8] \n",
    "for n in l_2: # for related ns \n",
    "    clf = svm.SVC(C=0.01, kernel=\"poly\", degree=2, gamma=1.0) # set svm model with related parameters\n",
    "    X, y = nVSall(n,train_data) # get related x and y\n",
    "    clf.fit(X, y) # fit this data into svm \n",
    "    predicted_y = clf.predict(X) # make prediction to find e in\n",
    "    ein = np.mean(y != predicted_y) # get average while comparing the predicts and the related label\n",
    "    final_ein2.append((ein, n)) # print out the n and the related e in\n",
    "print(max(final_ein2))\n",
    "# 0 has the maximun"
   ]
  },
  {
   "cell_type": "markdown",
   "id": "ae96900e",
   "metadata": {},
   "source": [
    "## Question 3"
   ]
  },
  {
   "cell_type": "code",
   "execution_count": 4,
   "id": "47bf5665",
   "metadata": {},
   "outputs": [
    {
     "name": "stdout",
     "output_type": "stream",
     "text": [
      "(0.014401316691811822, 1)\n"
     ]
    }
   ],
   "source": [
    "# same functionality with question 2 just numbers of list are changed\n",
    "final_ein3=[]\n",
    "l_3 = [1,3,5,7,9]\n",
    "for n in l_3: \n",
    "    clf = svm.SVC(C=0.01, kernel=\"poly\", degree=2, gamma=1.0)\n",
    "    X, y = nVSall(n,train_data)\n",
    "    clf.fit(X, y)\n",
    "    predicted_y = clf.predict(X)\n",
    "    E_in = np.mean(y != predicted_y)\n",
    "    final_ein3.append((E_in,n))\n",
    "    \n",
    "# 1 has the minimum\n",
    "print(min(final_ein3))"
   ]
  },
  {
   "cell_type": "markdown",
   "id": "b72c67c2",
   "metadata": {},
   "source": [
    "## Question 4"
   ]
  },
  {
   "cell_type": "code",
   "execution_count": 5,
   "id": "e2da3a94",
   "metadata": {},
   "outputs": [
    {
     "data": {
      "text/plain": [
       "1793"
      ]
     },
     "execution_count": 5,
     "metadata": {},
     "output_type": "execute_result"
    }
   ],
   "source": [
    "clfs=[] # list to store classifiers\n",
    "for n in [0,1]: # list for answers of q2 and q3\n",
    "    clf = svm.SVC(C=0.01, kernel=\"poly\", degree=2, gamma=1.0) \n",
    "    X, y = nVSall(n,train_data)\n",
    "    clf.fit(X, y)\n",
    "    predicted_y = clf.predict(X)\n",
    "    clfs.append(clf) # append related clf to list\n",
    "len(clfs[0].support_) - len(clfs[1].support_) # get the number of vector and find the difference\n",
    "# which is close to 1800"
   ]
  },
  {
   "cell_type": "markdown",
   "id": "67181956",
   "metadata": {},
   "source": [
    "## Question 5\n"
   ]
  },
  {
   "cell_type": "code",
   "execution_count": 6,
   "id": "bd4c6393",
   "metadata": {},
   "outputs": [
    {
     "name": "stdout",
     "output_type": "stream",
     "text": [
      "| C | Number of vectors | E in | E out |\n",
      "0.001 76 0.004484304932735426 0.01650943396226415\n",
      "0.01 34 0.004484304932735426 0.018867924528301886\n",
      "0.1 24 0.004484304932735426 0.018867924528301886\n",
      "1 24 0.0032030749519538757 0.018867924528301886\n"
     ]
    }
   ],
   "source": [
    "def nVSm(n,m, dataset):\n",
    "    isN = dataset[:,0] == n # to find which is n \n",
    "    isMm = dataset[:,0] == m # to find which is m\n",
    "    data_related = dataset[isN|isMm] # related indices of n and ms \n",
    "    X = data_related.copy() # get a copy of related indices for n and m\n",
    "    X[:,0] = 1.0 # set first column as 1\n",
    "    y = data_related[:,0].copy() \n",
    "    \n",
    "    y[np.where(data_related[:,0] == n)] = 1 # set 1 where class is n\n",
    "    y[np.where(data_related[:,0] == m)] = -1 # set -1 if m\n",
    "    return X, y\n",
    "\n",
    "Cs=[0.001, 0.01, 0.1, 1] # related C values for question\n",
    "\n",
    "train_x, train_y = nVSm(1,5,train_data) # train dataset and label\n",
    "test_x, test_y = nVSm(1,5,test_data) # test dataset\n",
    "print(\"| C | Number of vectors | E in | E out |\") # print statement to see how values are displayed\n",
    "for c in Cs:\n",
    "    clf = svm.SVC(C=c, kernel=\"poly\", degree=2, gamma=1.0) # set classifier with related parameter\n",
    "    clf.fit(train_x, train_y)# fit data into classifier\n",
    "    ein = np.mean(clf.predict(train_x) != train_y) # find E_in\n",
    "    eout = np.mean(clf.predict(test_x) != test_y) # Find E_out\n",
    "    num_sv= len(clf.support_) # get number of support vectors\n",
    "    print(c, num_sv, ein, eout)\n",
    "# Maxiumum C achieves lowest Ein"
   ]
  },
  {
   "cell_type": "markdown",
   "id": "b81a6c3c",
   "metadata": {},
   "source": [
    "## Question 6"
   ]
  },
  {
   "cell_type": "code",
   "execution_count": 7,
   "id": "0c046d58",
   "metadata": {
    "scrolled": true
   },
   "outputs": [
    {
     "name": "stdout",
     "output_type": "stream",
     "text": [
      "c:0.0001 v2:236  Ein2:0.0032030749519538757 Eout2:0.018867924528301886\n",
      "\tv5:26  Ein5:0.0032030749519538757  Eout5:0.018867924528301886 \n",
      "---------------------------------------------------------------------------\n",
      "c:0.001 v2:76  Ein2:0.0032030749519538757 Eout2:0.018867924528301886\n",
      "\tv5:25  Ein5:0.0032030749519538757  Eout5:0.018867924528301886 \n",
      "---------------------------------------------------------------------------\n",
      "c:0.01 v2:34  Ein2:0.0032030749519538757 Eout2:0.018867924528301886\n",
      "\tv5:23  Ein5:0.0032030749519538757  Eout5:0.018867924528301886 \n",
      "---------------------------------------------------------------------------\n",
      "c:0.1 v2:24  Ein2:0.0032030749519538757 Eout2:0.018867924528301886\n",
      "\tv5:25  Ein5:0.0032030749519538757  Eout5:0.018867924528301886 \n",
      "---------------------------------------------------------------------------\n"
     ]
    }
   ],
   "source": [
    "train_x, train_y = nVSm(1,5,train_data) # train dataset and label\n",
    "test_x, test_y = nVSm(1,5,test_data) # test dataset\n",
    "for c in (0.0001, 0.001, 0.010, 0.1):\n",
    "    clf2 = svm.SVC(C=c, kernel=\"poly\", degree=2, gamma=1.0)# set classifier with related parameter with degree 2\n",
    "    clf2.fit(train_x, train_y) # fit data into classifier\n",
    "    ein2 = np.mean(clf.predict(train_x) != train_y) # find E_in\n",
    "    eout2 = np.mean(clf.predict(test_x) != test_y) # Find E_out\n",
    "    num_sv2= len(clf2.support_)# get number of support vectors\n",
    "    \n",
    "    clf5 = svm.SVC(C=c, kernel=\"poly\", degree=5, gamma=1.0)# set classifier with related parameter with degree 5\n",
    "    clf5.fit(train_x, train_y)\n",
    "    ein5 = np.mean(clf.predict(train_x) != train_y)\n",
    "    eout5 = np.mean(clf.predict(test_x) != test_y)\n",
    "    num_sv5= len(clf5.support_)\n",
    "\n",
    "    print(\"c:{} v2:{}  Ein2:{} Eout2:{}\\n\\tv5:{}  Ein5:{}  Eout5:{} \".format(c,num_sv2,ein2,eout2,num_sv5,ein5,eout5))\n",
    "    print(\"-\"*75)\n",
    "# When C = 0.001, the number of support vectors is lower at Q = 5."
   ]
  },
  {
   "cell_type": "markdown",
   "id": "5e743180",
   "metadata": {},
   "source": [
    "## Question 7"
   ]
  },
  {
   "cell_type": "code",
   "execution_count": 8,
   "id": "7ad6f053",
   "metadata": {},
   "outputs": [
    {
     "name": "stdout",
     "output_type": "stream",
     "text": [
      "{0.001: 1}\n",
      "{0.001: 1, 1: 1}\n",
      "{0.001: 2, 1: 1}\n",
      "{0.001: 2, 1: 2}\n",
      "{0.001: 3, 1: 2}\n",
      "{0.001: 4, 1: 2}\n",
      "{0.001: 4, 1: 2, 0.01: 1}\n",
      "{0.001: 5, 1: 2, 0.01: 1}\n",
      "{0.001: 5, 1: 3, 0.01: 1}\n",
      "{0.001: 6, 1: 3, 0.01: 1}\n",
      "{0.001: 6, 1: 3, 0.01: 1, 0.1: 1}\n",
      "{0.001: 7, 1: 3, 0.01: 1, 0.1: 1}\n",
      "{0.001: 7, 1: 3, 0.01: 2, 0.1: 1}\n",
      "{0.001: 8, 1: 3, 0.01: 2, 0.1: 1}\n",
      "{0.001: 8, 1: 3, 0.01: 3, 0.1: 1}\n",
      "{0.001: 9, 1: 3, 0.01: 3, 0.1: 1}\n",
      "{0.001: 9, 1: 4, 0.01: 3, 0.1: 1}\n",
      "{0.001: 9, 1: 4, 0.01: 4, 0.1: 1}\n",
      "{0.001: 9, 1: 4, 0.01: 5, 0.1: 1}\n",
      "{0.001: 10, 1: 4, 0.01: 5, 0.1: 1}\n",
      "{0.001: 11, 1: 4, 0.01: 5, 0.1: 1}\n",
      "{0.001: 11, 1: 4, 0.01: 6, 0.1: 1}\n",
      "{0.001: 11, 1: 4, 0.01: 7, 0.1: 1}\n",
      "{0.001: 12, 1: 4, 0.01: 7, 0.1: 1}\n",
      "{0.001: 12, 1: 4, 0.01: 8, 0.1: 1}\n",
      "{0.001: 12, 1: 4, 0.01: 8, 0.1: 2}\n",
      "{0.001: 12, 1: 5, 0.01: 8, 0.1: 2}\n",
      "{0.001: 13, 1: 5, 0.01: 8, 0.1: 2}\n",
      "{0.001: 14, 1: 5, 0.01: 8, 0.1: 2}\n",
      "{0.001: 14, 1: 5, 0.01: 9, 0.1: 2}\n",
      "{0.001: 14, 1: 5, 0.01: 9, 0.1: 3}\n",
      "{0.001: 14, 1: 5, 0.01: 9, 0.1: 4}\n",
      "{0.001: 14, 1: 6, 0.01: 9, 0.1: 4}\n",
      "{0.001: 14, 1: 6, 0.01: 9, 0.1: 5}\n",
      "{0.001: 14, 1: 6, 0.01: 10, 0.1: 5}\n",
      "{0.001: 14, 1: 6, 0.01: 11, 0.1: 5}\n",
      "{0.001: 14, 1: 6, 0.01: 11, 0.1: 6}\n",
      "{0.001: 14, 1: 7, 0.01: 11, 0.1: 6}\n",
      "{0.001: 15, 1: 7, 0.01: 11, 0.1: 6}\n",
      "{0.001: 16, 1: 7, 0.01: 11, 0.1: 6}\n",
      "{0.001: 17, 1: 7, 0.01: 11, 0.1: 6}\n",
      "{0.001: 18, 1: 7, 0.01: 11, 0.1: 6}\n",
      "{0.001: 19, 1: 7, 0.01: 11, 0.1: 6}\n",
      "{0.001: 20, 1: 7, 0.01: 11, 0.1: 6}\n",
      "{0.001: 20, 1: 8, 0.01: 11, 0.1: 6}\n",
      "{0.001: 20, 1: 9, 0.01: 11, 0.1: 6}\n",
      "{0.001: 21, 1: 9, 0.01: 11, 0.1: 6}\n",
      "{0.001: 22, 1: 9, 0.01: 11, 0.1: 6}\n",
      "{0.001: 23, 1: 9, 0.01: 11, 0.1: 6}\n",
      "{0.001: 24, 1: 9, 0.01: 11, 0.1: 6}\n",
      "{0.001: 24, 1: 10, 0.01: 11, 0.1: 6}\n",
      "{0.001: 24, 1: 10, 0.01: 12, 0.1: 6}\n",
      "{0.001: 24, 1: 11, 0.01: 12, 0.1: 6}\n",
      "{0.001: 24, 1: 11, 0.01: 12, 0.1: 7}\n",
      "{0.001: 24, 1: 11, 0.01: 12, 0.1: 8}\n",
      "{0.001: 25, 1: 11, 0.01: 12, 0.1: 8}\n",
      "{0.001: 26, 1: 11, 0.01: 12, 0.1: 8}\n",
      "{0.001: 27, 1: 11, 0.01: 12, 0.1: 8}\n",
      "{0.001: 28, 1: 11, 0.01: 12, 0.1: 8}\n",
      "{0.001: 28, 1: 11, 0.01: 13, 0.1: 8}\n",
      "{0.001: 28, 1: 12, 0.01: 13, 0.1: 8}\n",
      "{0.001: 29, 1: 12, 0.01: 13, 0.1: 8}\n",
      "{0.001: 29, 1: 13, 0.01: 13, 0.1: 8}\n",
      "{0.001: 30, 1: 13, 0.01: 13, 0.1: 8}\n",
      "{0.001: 30, 1: 14, 0.01: 13, 0.1: 8}\n",
      "{0.001: 31, 1: 14, 0.01: 13, 0.1: 8}\n",
      "{0.001: 31, 1: 15, 0.01: 13, 0.1: 8}\n",
      "{0.001: 31, 1: 15, 0.01: 13, 0.1: 9}\n",
      "{0.001: 32, 1: 15, 0.01: 13, 0.1: 9}\n",
      "{0.001: 32, 1: 15, 0.01: 14, 0.1: 9}\n",
      "{0.001: 33, 1: 15, 0.01: 14, 0.1: 9}\n",
      "{0.001: 33, 1: 16, 0.01: 14, 0.1: 9}\n",
      "{0.001: 33, 1: 16, 0.01: 15, 0.1: 9}\n",
      "{0.001: 33, 1: 16, 0.01: 16, 0.1: 9}\n",
      "{0.001: 33, 1: 16, 0.01: 17, 0.1: 9}\n",
      "{0.001: 34, 1: 16, 0.01: 17, 0.1: 9}\n",
      "{0.001: 35, 1: 16, 0.01: 17, 0.1: 9}\n",
      "{0.001: 35, 1: 17, 0.01: 17, 0.1: 9}\n",
      "{0.001: 35, 1: 17, 0.01: 18, 0.1: 9}\n",
      "{0.001: 35, 1: 18, 0.01: 18, 0.1: 9}\n",
      "{0.001: 36, 1: 18, 0.01: 18, 0.1: 9}\n",
      "{0.001: 37, 1: 18, 0.01: 18, 0.1: 9}\n",
      "{0.001: 37, 1: 19, 0.01: 18, 0.1: 9}\n",
      "{0.001: 38, 1: 19, 0.01: 18, 0.1: 9}\n",
      "{0.001: 39, 1: 19, 0.01: 18, 0.1: 9}\n",
      "{0.001: 39, 1: 19, 0.01: 19, 0.1: 9}\n",
      "{0.001: 40, 1: 19, 0.01: 19, 0.1: 9}\n",
      "{0.001: 41, 1: 19, 0.01: 19, 0.1: 9}\n",
      "{0.001: 42, 1: 19, 0.01: 19, 0.1: 9}\n",
      "{0.001: 42, 1: 19, 0.01: 20, 0.1: 9}\n",
      "{0.001: 43, 1: 19, 0.01: 20, 0.1: 9}\n",
      "{0.001: 44, 1: 19, 0.01: 20, 0.1: 9}\n",
      "{0.001: 44, 1: 19, 0.01: 21, 0.1: 9}\n",
      "{0.001: 45, 1: 19, 0.01: 21, 0.1: 9}\n",
      "{0.001: 45, 1: 19, 0.01: 22, 0.1: 9}\n",
      "{0.001: 46, 1: 19, 0.01: 22, 0.1: 9}\n",
      "{0.001: 47, 1: 19, 0.01: 22, 0.1: 9}\n",
      "{0.001: 47, 1: 19, 0.01: 23, 0.1: 9}\n",
      "{0.001: 47, 1: 20, 0.01: 23, 0.1: 9}\n",
      "{0.001: 48, 1: 20, 0.01: 23, 0.1: 9}\n"
     ]
    }
   ],
   "source": [
    "X, y = nVSm(1, 5, train_data) # get related x and y labels \n",
    "\n",
    "def find_min(d):\n",
    "    tmp_min = 999\n",
    "    arg = 0\n",
    "    for c in (0.0001, 0.001, 0.01, 0.1, 1):\n",
    "        if d[c] < tmp_min:\n",
    "            tmp_min = d[c]\n",
    "            arg = c\n",
    "    return arg\n",
    "\n",
    "selected = {}\n",
    "all_E_cvs = []\n",
    "winning_E_cvs = []\n",
    "for i in range(100):\n",
    "    kfold = sk.model_selection.KFold(n_splits=10, shuffle=True)\n",
    "    ecvs = {}\n",
    "    for itrain, itest in kfold.split(X):\n",
    "        for c in [0.0001, 0.001, 0.01, 0.1, 1]:\n",
    "            ecvs.setdefault(c,0)\n",
    "            train_x, train_y = X[itrain,:], y[itrain]\n",
    "            test_x, test_y = X[itest,:], y[itest]\n",
    "            clf = svm.SVC(C=c, kernel=\"poly\", degree=2, gamma=1.0)\n",
    "            clf.fit(train_x, train_y)\n",
    "            e_val = np.mean(clf.predict(test_x) != test_y)\n",
    "            ecvs[c] += e_val\n",
    "    best_c = find_min(ecvs)\n",
    "    selected.setdefault(best_c,0)\n",
    "    selected[best_c] += 1\n",
    "    winning_E_cvs.append(ecvs[best_c])\n",
    "    print(selected)\n"
   ]
  },
  {
   "cell_type": "markdown",
   "id": "b6eb48c1",
   "metadata": {},
   "source": [
    "## Question 8"
   ]
  },
  {
   "cell_type": "code",
   "execution_count": 10,
   "id": "b3f2355c",
   "metadata": {},
   "outputs": [
    {
     "name": "stdout",
     "output_type": "stream",
     "text": [
      "0.044387555120039196\n"
     ]
    }
   ],
   "source": [
    "print(np.mean(winning_E_cvs))"
   ]
  },
  {
   "cell_type": "markdown",
   "id": "8c097a97",
   "metadata": {},
   "source": [
    "## Question 9"
   ]
  },
  {
   "cell_type": "code",
   "execution_count": 24,
   "id": "956c45ed",
   "metadata": {},
   "outputs": [
    {
     "data": {
      "text/plain": [
       "(0.0006406149903907751, 1000000)"
      ]
     },
     "execution_count": 24,
     "metadata": {},
     "output_type": "execute_result"
    }
   ],
   "source": [
    "train_x, train_y = nVSm(1,5,train_data) # train dataset and label\n",
    "test_x, test_y = nVSm(1,5,test_data) # test dataset\n",
    "q9cs=[0.01,  1,  100, 10**4,10**6]\n",
    "all_ein,all_eout=[],[]\n",
    "for c in q9cs:\n",
    "    clf = svm.SVC(C=c, kernel=\"rbf\", degree=2, gamma=1.0) # set svm fernel as rbf \n",
    "    clf.fit(train_x, train_y) # fit the data\n",
    "    ein = np.mean(clf.predict(train_x) != train_y) # find the ein\n",
    "    eout = np.mean(clf.predict(test_x) != test_y) # find the eout\n",
    "    all_ein.append((ein, c)) # add to the list\n",
    "    all_eout.append((eout, c)) # add to the list\n",
    "min(all_ein) \n",
    "#10^6 has the lowest e in so C,"
   ]
  },
  {
   "cell_type": "markdown",
   "id": "f1b902ae",
   "metadata": {},
   "source": [
    "## Question 10"
   ]
  },
  {
   "cell_type": "code",
   "execution_count": 25,
   "id": "965941d8",
   "metadata": {},
   "outputs": [
    {
     "data": {
      "text/plain": [
       "(0.018867924528301886, 100)"
      ]
     },
     "execution_count": 25,
     "metadata": {},
     "output_type": "execute_result"
    }
   ],
   "source": [
    "#  100 is the lowest for e out\n",
    "min(all_eout)"
   ]
  }
 ],
 "metadata": {
  "celltoolbar": "Raw Cell Format",
  "kernelspec": {
   "display_name": "Python 3",
   "language": "python",
   "name": "python3"
  },
  "language_info": {
   "codemirror_mode": {
    "name": "ipython",
    "version": 3
   },
   "file_extension": ".py",
   "mimetype": "text/x-python",
   "name": "python",
   "nbconvert_exporter": "python",
   "pygments_lexer": "ipython3",
   "version": "3.9.1"
  }
 },
 "nbformat": 4,
 "nbformat_minor": 5
}
