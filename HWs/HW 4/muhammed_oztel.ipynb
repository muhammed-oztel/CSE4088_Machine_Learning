{
 "cells": [
  {
   "cell_type": "markdown",
   "id": "c68ec115",
   "metadata": {},
   "source": [
    "# Homework 4\n",
    "\n",
    "_Author:_ Muhammed Fatih Öztel\n",
    "\n",
    "_ID:_ 150119907\n"
   ]
  },
  {
   "cell_type": "code",
   "execution_count": 1,
   "id": "2e159ace",
   "metadata": {},
   "outputs": [],
   "source": [
    "# pip install -U libsvm-official"
   ]
  },
  {
   "cell_type": "code",
   "execution_count": 2,
   "id": "0319361f",
   "metadata": {},
   "outputs": [],
   "source": [
    "import numpy as np\n",
    "from libsvm.svmutil import *\n",
    "from sklearn import svm\n",
    "import sklearn as sk\n",
    "\n"
   ]
  },
  {
   "cell_type": "markdown",
   "id": "cb916ac1",
   "metadata": {},
   "source": [
    "# SVM with Soft Margins\n"
   ]
  },
  {
   "cell_type": "code",
   "execution_count": 3,
   "id": "2b3f8b18",
   "metadata": {},
   "outputs": [
    {
     "data": {
      "text/plain": [
       "array([[ 6.        ,  0.3410918 , -4.5289375 ],\n",
       "       [ 5.        ,  0.44413086, -5.4968125 ],\n",
       "       [ 4.        ,  0.23100195, -2.88675   ],\n",
       "       [ 7.        ,  0.20027539, -3.534375  ],\n",
       "       [ 3.        ,  0.29193555, -4.3520625 ]])"
      ]
     },
     "execution_count": 3,
     "metadata": {},
     "output_type": "execute_result"
    }
   ],
   "source": [
    "train_data = np.loadtxt(\"features.train.txt\")\n",
    "test_data = np.loadtxt(\"features.test.txt\")\n",
    "\n",
    "\n",
    "# tr_data, tr_label = train[:,:2], train[:,2] # parse the data relativly\n",
    "# ts_data, ts_label = test[:,:2], test[:,2] # parse the data relativly\n",
    "train_data[0:5,:]"
   ]
  },
  {
   "cell_type": "markdown",
   "id": "ecbe3949",
   "metadata": {},
   "source": [
    "## Question 2 "
   ]
  },
  {
   "cell_type": "code",
   "execution_count": 4,
   "id": "1169d23b",
   "metadata": {},
   "outputs": [
    {
     "name": "stdout",
     "output_type": "stream",
     "text": [
      "0 0.10588396653408312\n",
      "2 0.10026059525442327\n",
      "4 0.08942531888629818\n",
      "6 0.09107118365107666\n",
      "8 0.07433822520916199\n"
     ]
    }
   ],
   "source": [
    "def get_n_vs_all_dataset(n, dataset):\n",
    "    is_n = dataset[:,0] == n\n",
    "    X = dataset.copy()\n",
    "    X[:,0] = 1.0\n",
    "    y = 2*is_n - 1\n",
    "    return X, y\n",
    "\n",
    "l_2 = [0,2,4,6,8]\n",
    "for n in l_2:\n",
    "    clf = svm.SVC(C=0.01, kernel=\"poly\", degree=2, gamma=1.0)\n",
    "    X, y = get_n_vs_all_dataset(n,train_data)\n",
    "    clf.fit(X, y)\n",
    "    y_predict = clf.predict(X)\n",
    "    E_in = np.mean(y != y_predict)\n",
    "    print(n, E_in) \n",
    "    \n",
    "# 0 has the maximun"
   ]
  },
  {
   "cell_type": "markdown",
   "id": "ae96900e",
   "metadata": {},
   "source": [
    "## Question 3"
   ]
  },
  {
   "cell_type": "code",
   "execution_count": 5,
   "id": "47bf5665",
   "metadata": {},
   "outputs": [
    {
     "name": "stdout",
     "output_type": "stream",
     "text": [
      "1 0.014401316691811822\n",
      "3 0.09024825126868742\n",
      "5 0.07625840076807022\n",
      "7 0.08846523110684405\n",
      "9 0.08832807570977919\n"
     ]
    }
   ],
   "source": [
    "l_3 = [1,3,5,7,9]\n",
    "for n in l_3:\n",
    "    clf = svm.SVC(C=0.01, kernel=\"poly\", degree=2, gamma=1.0)\n",
    "    X, y = get_n_vs_all_dataset(n,train_data)\n",
    "    clf.fit(X, y)\n",
    "    y_predict = clf.predict(X)\n",
    "    E_in = np.mean(y != y_predict)\n",
    "    print(n, E_in)\n",
    "    \n",
    "# 1 has the minimum"
   ]
  },
  {
   "cell_type": "markdown",
   "id": "b72c67c2",
   "metadata": {},
   "source": [
    "## Question 4"
   ]
  },
  {
   "cell_type": "code",
   "execution_count": 6,
   "id": "e2da3a94",
   "metadata": {},
   "outputs": [
    {
     "data": {
      "text/plain": [
       "1793"
      ]
     },
     "execution_count": 6,
     "metadata": {},
     "output_type": "execute_result"
    }
   ],
   "source": [
    "clfs=[]\n",
    "for n in [0,1]:\n",
    "    clf = svm.SVC(C=0.01, kernel=\"poly\", degree=2, gamma=1.0)\n",
    "    X, y = get_n_vs_all_dataset(n,train_data)\n",
    "    clf.fit(X, y)\n",
    "    y_predict = clf.predict(X)\n",
    "    clfs.append(clf)\n",
    "len(clfs[0].support_) - len(clfs[1].support_) \n",
    "# which is close to 1800"
   ]
  },
  {
   "cell_type": "markdown",
   "id": "67181956",
   "metadata": {},
   "source": [
    "## Question 5\n"
   ]
  },
  {
   "cell_type": "code",
   "execution_count": 7,
   "id": "bd4c6393",
   "metadata": {},
   "outputs": [
    {
     "name": "stdout",
     "output_type": "stream",
     "text": [
      "| C | Number of vectors | E in | E out |\n",
      "0.001 76 0.004484304932735426 0.01650943396226415\n",
      "0.01 34 0.004484304932735426 0.018867924528301886\n",
      "0.1 24 0.004484304932735426 0.018867924528301886\n",
      "1 24 0.0032030749519538757 0.018867924528301886\n"
     ]
    }
   ],
   "source": [
    "def get_n_vs_m(n,m, dataset):\n",
    "    is_n = dataset[:,0] == n\n",
    "    is_m = dataset[:,0] == m\n",
    "    data_related = dataset[is_n|is_m] # related indices of n and ms \n",
    "    X = data_related.copy()\n",
    "    X[:,0] = 1.0\n",
    "    y = data_related[:,0].copy()\n",
    "    \n",
    "    y[np.where(data_related[:,0] == n)] = 1\n",
    "    y[np.where(data_related[:,0] == m)] = -1\n",
    "    return X, y\n",
    "\n",
    "Cs=[0.001, 0.01, 0.1, 1]\n",
    "\n",
    "train_x, train_y = get_n_vs_m(1,5,train_data)\n",
    "test_x, test_y = get_n_vs_m(1,5,test_data)\n",
    "print(\"| C | Number of vectors | E in | E out |\")\n",
    "for c in Cs:\n",
    "    clf = svm.SVC(C=c, kernel=\"poly\", degree=2, gamma=1.0)\n",
    "    clf.fit(train_x, train_y)\n",
    "    num_sv= len(clf.support_)\n",
    "    e_in = np.mean(clf.predict(train_x) != train_y)\n",
    "    e_out = np.mean(clf.predict(test_x) != test_y)\n",
    "    print(c, num_sv, e_in, e_out)\n",
    "# Maxiumum C achieves lowest Ein"
   ]
  },
  {
   "cell_type": "markdown",
   "id": "b81a6c3c",
   "metadata": {},
   "source": [
    "## Question 6"
   ]
  },
  {
   "cell_type": "code",
   "execution_count": 8,
   "id": "0c046d58",
   "metadata": {
    "scrolled": true
   },
   "outputs": [
    {
     "name": "stdout",
     "output_type": "stream",
     "text": [
      "C:0.0001 V2:236 V5:26 Ein2:0.0032030749519538757 Ein5:0.0032030749519538757 Eout2:0.018867924528301886 Eout5:0.018867924528301886\n",
      "C:0.001 V2:76 V5:25 Ein2:0.0032030749519538757 Ein5:0.0032030749519538757 Eout2:0.018867924528301886 Eout5:0.018867924528301886\n",
      "C:0.01 V2:34 V5:23 Ein2:0.0032030749519538757 Ein5:0.0032030749519538757 Eout2:0.018867924528301886 Eout5:0.018867924528301886\n",
      "C:0.1 V2:24 V5:25 Ein2:0.0032030749519538757 Ein5:0.0032030749519538757 Eout2:0.018867924528301886 Eout5:0.018867924528301886\n"
     ]
    }
   ],
   "source": [
    "train_x, train_y = get_n_vs_m(1,5,train_data)\n",
    "test_x, test_y = get_n_vs_m(1,5,test_data)\n",
    "for c in (0.0001, 0.001, 0.010, 0.1):\n",
    "    clf2 = svm.SVC(C=c, kernel=\"poly\", degree=2, gamma=1.0)\n",
    "    clf2.fit(train_x, train_y)\n",
    "    num_sv2= len(clf2.support_)\n",
    "    e_in2 = np.mean(clf.predict(train_x) != train_y)\n",
    "    e_out2 = np.mean(clf.predict(test_x) != test_y)\n",
    "    \n",
    "    clf5 = svm.SVC(C=c, kernel=\"poly\", degree=5, gamma=1.0)\n",
    "    clf5.fit(train_x, train_y)\n",
    "    num_sv5= len(clf5.support_)\n",
    "    e_in5 = np.mean(clf.predict(train_x) != train_y)\n",
    "    e_out5 = np.mean(clf.predict(test_x) != test_y)\n",
    "    print(\"C:{} V2:{} V5:{} Ein2:{} Ein5:{} Eout2:{} Eout5:{}\".format(c,num_sv2,num_sv5,e_in2,e_in5,e_out2,e_out5))\n",
    "# When C = 0.001, the number of support vectors is lower at Q = 5."
   ]
  },
  {
   "cell_type": "markdown",
   "id": "5e743180",
   "metadata": {},
   "source": [
    "## Question 7"
   ]
  },
  {
   "cell_type": "code",
   "execution_count": 9,
   "id": "7ad6f053",
   "metadata": {},
   "outputs": [],
   "source": [
    "\n",
    "\n",
    "\n",
    "for i in range(100):\n",
    "    \n",
    "    pass\n"
   ]
  },
  {
   "cell_type": "markdown",
   "id": "b6eb48c1",
   "metadata": {},
   "source": [
    "## Question 8"
   ]
  },
  {
   "cell_type": "code",
   "execution_count": null,
   "id": "b3f2355c",
   "metadata": {},
   "outputs": [],
   "source": []
  },
  {
   "cell_type": "markdown",
   "id": "8c097a97",
   "metadata": {},
   "source": [
    "## Question 9"
   ]
  },
  {
   "cell_type": "code",
   "execution_count": 20,
   "id": "956c45ed",
   "metadata": {},
   "outputs": [
    {
     "data": {
      "text/plain": [
       "(0.0006406149903907751, 1000000)"
      ]
     },
     "execution_count": 20,
     "metadata": {},
     "output_type": "execute_result"
    }
   ],
   "source": [
    "q8cs=[0.01,  1,  100, 10**4,10**6]\n",
    "e_ins=[]\n",
    "e_outs=[]\n",
    "for c in q8cs:\n",
    "    clf = svm.SVC(C=c, kernel=\"rbf\", degree=2, gamma=1.0)\n",
    "    clf.fit(train_x, train_y)\n",
    "    num_sv= len(clf.support_)\n",
    "    e_in = np.mean(clf.predict(train_x) != train_y)\n",
    "    e_out = np.mean(clf.predict(test_x) != test_y)\n",
    "    e_ins.append((e_in, c))\n",
    "    e_outs.append((e_out, c))\n",
    "min(e_ins) \n",
    "#10^6 has the lowest e in so C,"
   ]
  },
  {
   "cell_type": "markdown",
   "id": "f1b902ae",
   "metadata": {},
   "source": [
    "## Question 10"
   ]
  },
  {
   "cell_type": "code",
   "execution_count": 22,
   "id": "965941d8",
   "metadata": {},
   "outputs": [
    {
     "data": {
      "text/plain": [
       "(0.018867924528301886, 100)"
      ]
     },
     "execution_count": 22,
     "metadata": {},
     "output_type": "execute_result"
    }
   ],
   "source": [
    "#  100 is the lowest for e out\n",
    "min(e_outs)"
   ]
  }
 ],
 "metadata": {
  "celltoolbar": "Raw Cell Format",
  "kernelspec": {
   "display_name": "Python 3",
   "language": "python",
   "name": "python3"
  },
  "language_info": {
   "codemirror_mode": {
    "name": "ipython",
    "version": 3
   },
   "file_extension": ".py",
   "mimetype": "text/x-python",
   "name": "python",
   "nbconvert_exporter": "python",
   "pygments_lexer": "ipython3",
   "version": "3.8.8"
  }
 },
 "nbformat": 4,
 "nbformat_minor": 5
}
