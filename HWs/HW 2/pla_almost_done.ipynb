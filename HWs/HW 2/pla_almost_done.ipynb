{
 "cells": [
  {
   "cell_type": "code",
   "execution_count": 2,
   "metadata": {},
   "outputs": [],
   "source": [
    "import numpy as np\n",
    "import matplotlib.pyplot as plt\n",
    "import random\n",
    "import copy\n",
    "\n",
    "# dataset = np.random.uniform(-1,1, size=20).reshape(10,2)\n",
    "# dataset\n",
    "\n",
    "def target_function(): \n",
    "    target = np.random.uniform(-1,1, size=4).reshape(2,2)\n",
    "    return target\n",
    "\n",
    "# line = target_function()\n",
    "# line\n",
    "\n",
    "\n",
    "def find_boundary(p_x,p_y, line):\n",
    "    det = (line[0][1] - line[0][0]) * (p_y - line[1][0]) - (line[1][1]-line[1][0]) * (p_x-line[0][0]) \n",
    "    return 1 if det > 0 else -1\n",
    "\n",
    "def find_missclassified(weight,inserted, sign_list):\n",
    "    missclassified = []\n",
    "    for i in range(len(inserted)):\n",
    "        product = np.matmul(weight, inserted[i]) \n",
    "        g_sign = 0 \n",
    "        if product<0:g_sign = -1\n",
    "        elif product>0:g_sign= 1\n",
    "        if sign_list[i] !=g_sign:\n",
    "            missclassified.append(i)\n",
    "    return missclassified\n",
    "    \n",
    "def perceptron_la(weight, inserted, line, sign_list):\n",
    "#     missclassified = find_missclassified(weight, inserted, line)\n",
    "    counter = 1\n",
    "    while True:\n",
    "        missclassified = find_missclassified(weight,inserted, sign_list)\n",
    "        if missclassified == []:\n",
    "            break\n",
    "        rand_choice = random.choice(inserted[missclassified])\n",
    "        y_sign = find_boundary(rand_choice[1],rand_choice[2],line)\n",
    "        weight += y_sign * rand_choice\n",
    "        counter +=1\n",
    "    return counter\n",
    "\n",
    "\n",
    "def run_with_iter( num_of_iters, num_of_data):\n",
    "    list_of_counters = []\n",
    "    for i in range(num_of_iters):\n",
    "        dataset = np.random.uniform(-1,1, size=num_of_data*2).reshape(num_of_data,2)\n",
    "        line = target_function()\n",
    "        signs_of_dataset = []\n",
    "        for i in range(len(dataset)):\n",
    "            signs_of_dataset.append(find_boundary(dataset[i][0],dataset[i][1],line))\n",
    "        inserted = np.insert(dataset,0,1,axis=1)\n",
    "        weight = np.zeros(3)\n",
    "        count= perceptron_la(weight,inserted, line, signs_of_dataset) \n",
    "        list_of_counters.append(count)\n",
    "    return list_of_counters\n",
    "\n"
   ]
  },
  {
   "cell_type": "code",
   "execution_count": 3,
   "metadata": {},
   "outputs": [
    {
     "name": "stdout",
     "output_type": "stream",
     "text": [
      "Wall time: 484 ms\n"
     ]
    },
    {
     "data": {
      "text/plain": [
       "12.496"
      ]
     },
     "execution_count": 3,
     "metadata": {},
     "output_type": "execute_result"
    }
   ],
   "source": [
    "%%time\n",
    "result = (run_with_iter(1000, 10))\n",
    "np.average(result)"
   ]
  },
  {
   "cell_type": "code",
   "execution_count": 4,
   "metadata": {},
   "outputs": [
    {
     "name": "stdout",
     "output_type": "stream",
     "text": [
      "Wall time: 21.4 s\n"
     ]
    },
    {
     "data": {
      "text/plain": [
       "99.905"
      ]
     },
     "execution_count": 4,
     "metadata": {},
     "output_type": "execute_result"
    }
   ],
   "source": [
    "%%time\n",
    "result = (run_with_iter(1000, 100))\n",
    "np.average(result)"
   ]
  },
  {
   "cell_type": "code",
   "execution_count": 104,
   "metadata": {
    "scrolled": false
   },
   "outputs": [
    {
     "data": {
      "text/plain": [
       "0.04045"
      ]
     },
     "execution_count": 104,
     "metadata": {},
     "output_type": "execute_result"
    }
   ],
   "source": [
    "\n",
    "def linear_regression(inserted, sign_list):\n",
    "    x_pseudo = np.linalg.pinv(inserted)\n",
    "    weight = np.matmul(x_pseudo, sign_list)\n",
    "    predict = np.sign(np.matmul(weight, inserted.T)) \n",
    "    miss_count = 0\n",
    "    for i in range(len(predict)):\n",
    "        if int(predict[i]) != sign_list[i]:miss_count+=1\n",
    "    #     print(predict, )\n",
    "    #     print(sign_list, )\n",
    "    return miss_count*1.0 / len(predict) ,weight\n",
    "\n",
    "def run_linreg_with_iter(num_of_iters, data_size):\n",
    "    list_of_probs = []\n",
    "    for i in range(num_of_iters):\n",
    "        dataset = np.random.uniform(-1,1, size=data_size*2).reshape(data_size,2)\n",
    "        line = target_function()\n",
    "        signs_of_dataset = []\n",
    "        for i in range(len(dataset)):\n",
    "            signs_of_dataset.append(find_boundary(dataset[i][0],dataset[i][1],line))\n",
    "        inserted = np.insert(dataset,0,1,axis=1)\n",
    "        weight = np.zeros(3)\n",
    "        count, weight = linear_regression(inserted, signs_of_dataset) \n",
    "        list_of_probs.append(count)\n",
    "    return list_of_probs, line, weight\n",
    "\n",
    "\n",
    "# 8. c  Close to 0.01\n",
    "result,line,weight = (run_linreg_with_iter(1000, 100))\n",
    "np.average(result)"
   ]
  },
  {
   "cell_type": "code",
   "execution_count": 105,
   "metadata": {},
   "outputs": [
    {
     "data": {
      "text/plain": [
       "0.137216"
      ]
     },
     "execution_count": 105,
     "metadata": {},
     "output_type": "execute_result"
    }
   ],
   "source": [
    "def q9(line, weight, num_of_iter, num_of_fresh):\n",
    "    fresh_probs = []\n",
    "    for i in range( num_of_iter ):\n",
    "        fresh_points = np.insert(np.random.uniform(-1,1, size=num_of_fresh*2).reshape(num_of_fresh,2),0,1,axis=1)\n",
    "\n",
    "        signs_of_fresh = []\n",
    "        for i in range(len(fresh_points)):\n",
    "            signs_of_fresh.append(find_boundary(fresh_points[i][1],fresh_points[i][2],line))\n",
    "        predict = np.sign(np.matmul(weight, fresh_points.T))\n",
    "\n",
    "        miss_count = 0\n",
    "        for i in range(len(predict)):\n",
    "            if int(predict[i]) != int(signs_of_fresh[i]):miss_count+=1\n",
    "        fresh_probs.append(miss_count / len(fresh_points))\n",
    "\n",
    "\n",
    "    return np.average(fresh_probs)\n",
    "# close to 0.01 answer C\n",
    "q9(line,weight, 1000,1000)"
   ]
  },
  {
   "cell_type": "markdown",
   "metadata": {},
   "source": [
    "---\n",
    "\n",
    "# Non Linear Transformation\n",
    "\n",
    "## Question 11 \n"
   ]
  },
  {
   "cell_type": "code",
   "execution_count": 169,
   "metadata": {},
   "outputs": [
    {
     "name": "stdout",
     "output_type": "stream",
     "text": [
      "Wall time: 2.58 s\n"
     ]
    },
    {
     "data": {
      "text/plain": [
       "0.504888"
      ]
     },
     "execution_count": 169,
     "metadata": {},
     "output_type": "execute_result"
    }
   ],
   "source": [
    "%%time\n",
    "def nonlinear_target(x1, x2):\n",
    "    return  1 if (x1**2 + x2**2 - 0.6) > 0 else -1\n",
    "\n",
    "# training_set =  np.random.uniform(-1,1, size=1000*2).reshape(1000, 2)\n",
    "# flipped_sign= []\n",
    "# for i in range(len(training_set)):\n",
    "#     sign = nonlinear_target(training_set[i][0],training_set[i][1])\n",
    "#     if i %10 == 0:sign=-1*sign\n",
    "#     flipped_sign.append(sign)\n",
    "\n",
    "def q11():\n",
    "    list_of_probs = []\n",
    "    for i in range(1000):\n",
    "        training_set =  np.random.uniform(-1,1, size=1000*2).reshape(1000, 2)\n",
    "        flipped_sign= []\n",
    "        for i in range(len(training_set)):\n",
    "            sign = nonlinear_target(training_set[i][0],training_set[i][1])\n",
    "            if i %10 == 0:sign=-1*sign\n",
    "            flipped_sign.append(sign)\n",
    "        inserted = np.insert(training_set,0,1,axis=1)\n",
    "        count, weight = linear_regression(inserted, flipped_sign) \n",
    "        list_of_probs.append(count)\n",
    "    return np.average(list_of_probs)\n",
    "    \n",
    "q11()\n"
   ]
  },
  {
   "cell_type": "markdown",
   "metadata": {},
   "source": [
    "## Question 12"
   ]
  },
  {
   "cell_type": "code",
   "execution_count": 223,
   "metadata": {},
   "outputs": [],
   "source": [
    "np.set_printoptions(suppress=True)"
   ]
  },
  {
   "cell_type": "code",
   "execution_count": 225,
   "metadata": {
    "scrolled": false
   },
   "outputs": [
    {
     "data": {
      "text/plain": [
       "array([-0.99121303, -0.00000334,  0.0005402 , -0.00572102,  1.55551064,\n",
       "        1.55659617])"
      ]
     },
     "execution_count": 225,
     "metadata": {},
     "output_type": "execute_result"
    }
   ],
   "source": [
    "def q12():\n",
    "    weight_total= np.zeros(6)\n",
    "    for i in range(1000):\n",
    "        dataset = np.insert(np.random.uniform(-1,1, size=1000*2).reshape(1000, 2),0,1,axis=1)\n",
    "\n",
    "        x1_x2 = (dataset[:, 1]* dataset[:, 2]).reshape(1000,1)\n",
    "        x1_square = (dataset[:,1]**2).reshape(1000,1)\n",
    "        x2_square = (dataset[:,2]**2).reshape(1000,1)\n",
    "        dataset = np.concatenate((dataset, x1_x2,x1_square,x2_square), axis=1)\n",
    "        flipped_sign= []\n",
    "        for i in range(len(dataset)):\n",
    "            sign = nonlinear_target(dataset[i][1],dataset[i][2])\n",
    "            if i %10 == 0:sign=-1*sign\n",
    "            flipped_sign.append(sign)\n",
    "\n",
    "    #     for i in range(len(dataset)):\n",
    "    #         sign = nonlinear_target(dataset[i][1],dataset[i][2])\n",
    "    #         sign_list.append(sign)\n",
    "        count, weight = linear_regression(dataset, flipped_sign)\n",
    "        weight_total+=weight\n",
    "\n",
    "    return (weight_total/1000)\n",
    "# q12()"
   ]
  },
  {
   "cell_type": "code",
   "execution_count": 228,
   "metadata": {},
   "outputs": [
    {
     "data": {
      "text/plain": [
       "array([-0.91772465,  0.04942707,  0.05448993, -0.0651864 ,  1.46734572,\n",
       "        1.44471018])"
      ]
     },
     "execution_count": 228,
     "metadata": {},
     "output_type": "execute_result"
    }
   ],
   "source": [
    "\n",
    "for i in range(1000):\n",
    "    dataset = np.insert(np.random.uniform(-1,1, size=1000*2).reshape(1000, 2),0,1,axis=1)\n",
    "\n",
    "    x1_x2 = (dataset[:, 1]* dataset[:, 2]).reshape(1000,1)\n",
    "    x1_square = (dataset[:,1]**2).reshape(1000,1)\n",
    "    x2_square = (dataset[:,2]**2).reshape(1000,1)\n",
    "    dataset = np.concatenate((dataset, x1_x2,x1_square,x2_square), axis=1)\n",
    "    flipped_sign= []\n",
    "    for i in range(len(dataset)):\n",
    "        sign = nonlinear_target(dataset[i][1],dataset[i][2])\n",
    "        if i %10 == 0:sign=-1*sign\n",
    "        flipped_sign.append(sign)\n",
    "\n",
    "#     for i in range(len(dataset)):\n",
    "#         sign = nonlinear_target(dataset[i][1],dataset[i][2])\n",
    "#         sign_list.append(sign)\n",
    "    count, weight = linear_regression(dataset, flipped_sign)\n",
    "weight\n"
   ]
  },
  {
   "cell_type": "code",
   "execution_count": 240,
   "metadata": {},
   "outputs": [
    {
     "data": {
      "text/plain": [
       "0.119383"
      ]
     },
     "execution_count": 240,
     "metadata": {},
     "output_type": "execute_result"
    }
   ],
   "source": [
    "\n",
    "\n",
    "def q12(weight, num_of_iter, num_of_fresh):\n",
    "    fresh_probs = []\n",
    "    for i in range( num_of_iter ):\n",
    "        fresh_points = np.insert(np.random.uniform(-1,1, size=num_of_fresh*2).reshape(num_of_fresh,2),0,1,axis=1)\n",
    "\n",
    "        x1_x2 = (fresh_points[:, 1]* fresh_points[:, 2]).reshape(1000,1)\n",
    "        x1_square = (fresh_points[:,1]**2).reshape(1000,1)\n",
    "        x2_square = (fresh_points[:,2]**2).reshape(1000,1)\n",
    "        fresh_points = np.concatenate((fresh_points, x1_x2,x1_square,x2_square), axis=1)\n",
    "        signs_of_fresh = []\n",
    "        for i in range(len(fresh_points)):\n",
    "            sign = nonlinear_target(fresh_points[i][1],fresh_points[i][2])\n",
    "            if i %10 == 0:sign=-1*sign\n",
    "            signs_of_fresh.append(sign)\n",
    "        predict = np.sign(np.matmul(weight, fresh_points.T))\n",
    "\n",
    "        miss_count = 0\n",
    "        for i in range(len(predict)):\n",
    "            if int(predict[i]) != int(signs_of_fresh[i]):miss_count+=1\n",
    "        fresh_probs.append(miss_count / len(fresh_points))\n",
    "\n",
    "    return np.average(fresh_probs)\n",
    "\n",
    "# answer is close to 0.1 answer \n",
    "q12(weight, 1000, 1000)\n"
   ]
  }
 ],
 "metadata": {
  "interpreter": {
   "hash": "81248d4f47741c59d54854640730bc2709090d980144e2f19c3d8319ffea9c3c"
  },
  "kernelspec": {
   "display_name": "Python 3",
   "language": "python",
   "name": "python3"
  },
  "language_info": {
   "codemirror_mode": {
    "name": "ipython",
    "version": 3
   },
   "file_extension": ".py",
   "mimetype": "text/x-python",
   "name": "python",
   "nbconvert_exporter": "python",
   "pygments_lexer": "ipython3",
   "version": "3.8.8"
  }
 },
 "nbformat": 4,
 "nbformat_minor": 2
}
