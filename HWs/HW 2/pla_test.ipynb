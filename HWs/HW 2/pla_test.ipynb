{
 "cells": [
  {
   "cell_type": "code",
   "execution_count": 208,
   "metadata": {},
   "outputs": [],
   "source": [
    "import numpy as np\n",
    "import matplotlib.pyplot as plt\n",
    "import random\n",
    "import copy"
   ]
  },
  {
   "cell_type": "code",
   "execution_count": 209,
   "metadata": {
    "scrolled": true
   },
   "outputs": [],
   "source": [
    "# dataset = np.random.uniform(-1,1, size=20).reshape(10,2)\n",
    "# dataset"
   ]
  },
  {
   "cell_type": "code",
   "execution_count": 210,
   "metadata": {
    "scrolled": true
   },
   "outputs": [],
   "source": [
    "def target_function(): \n",
    "    target = np.random.uniform(-1,1, size=4).reshape(2,2)\n",
    "    return target\n",
    "\n",
    "# line = target_function()\n",
    "# line\n"
   ]
  },
  {
   "cell_type": "code",
   "execution_count": 211,
   "metadata": {
    "scrolled": true
   },
   "outputs": [],
   "source": [
    "def find_boundary(p_x,p_y, line):\n",
    "    det = (line[0][1] - line[0][0]) * (p_y - line[1][0]) - (line[1][1]-line[1][0]) * (p_x-line[0][0]) \n",
    "    return 1 if det > 0 else -1"
   ]
  },
  {
   "cell_type": "code",
   "execution_count": 216,
   "metadata": {
    "scrolled": false
   },
   "outputs": [],
   "source": [
    "def find_missclassified(weight,inserted, sign_list):\n",
    "    missclassified = []\n",
    "    for i in range(len(inserted)):\n",
    "        product = np.matmul(weight, inserted[i]) \n",
    "        g_sign = 0 \n",
    "        if product<0:g_sign = -1\n",
    "        elif product>0:g_sign= 1\n",
    "        if sign_list[i] !=g_sign:\n",
    "            missclassified.append(i)\n",
    "    return missclassified\n",
    "    \n",
    "def perceptron_la(weight, inserted, line, sign_list):\n",
    "#     missclassified = find_missclassified(weight, inserted, line)\n",
    "    counter = 0\n",
    "    while True:\n",
    "        missclassified = find_missclassified(weight,inserted, sign_list)\n",
    "        if missclassified == []:\n",
    "            break\n",
    "        rand_choice = random.choice(inserted[missclassified])\n",
    "        y_sign = find_boundary(rand_choice[1],rand_choice[2],line)\n",
    "        weight += y_sign * rand_choice\n",
    "        counter +=1\n",
    "    return counter\n"
   ]
  },
  {
   "cell_type": "code",
   "execution_count": 217,
   "metadata": {},
   "outputs": [],
   "source": [
    "def run_with_iter( num_of_iters, num_of_data):\n",
    "    list_of_counters = []\n",
    "    for i in range(num_of_iters):\n",
    "        dataset = np.random.uniform(-1,1, size=num_of_data*2).reshape(num_of_data,2)\n",
    "        line = target_function()\n",
    "        signs_of_dataset = []\n",
    "        for i in range(len(dataset)):\n",
    "            signs_of_dataset.append(find_boundary(dataset[i][0],dataset[i][1],line))\n",
    "        inserted = np.insert(dataset,0,1,axis=1)\n",
    "        weight = np.zeros(3)\n",
    "        count= perceptron_la(weight,inserted, line, signs_of_dataset) \n",
    "        list_of_counters.append(count)\n",
    "    return list_of_counters\n",
    "\n"
   ]
  },
  {
   "cell_type": "code",
   "execution_count": 246,
   "metadata": {},
   "outputs": [
    {
     "name": "stdout",
     "output_type": "stream",
     "text": [
      "Wall time: 415 ms\n"
     ]
    },
    {
     "data": {
      "text/plain": [
       "9.714"
      ]
     },
     "execution_count": 246,
     "metadata": {},
     "output_type": "execute_result"
    }
   ],
   "source": [
    "%%time\n",
    "result = (run_with_iter(1000, 10))\n",
    "np.average(result)"
   ]
  },
  {
   "cell_type": "code",
   "execution_count": 248,
   "metadata": {},
   "outputs": [
    {
     "name": "stdout",
     "output_type": "stream",
     "text": [
      "Wall time: 24.5 s\n"
     ]
    },
    {
     "data": {
      "text/plain": [
       "112.838"
      ]
     },
     "execution_count": 248,
     "metadata": {},
     "output_type": "execute_result"
    }
   ],
   "source": [
    "%%time\n",
    "result = (run_with_iter(1000, 100))\n",
    "np.average(result)"
   ]
  },
  {
   "cell_type": "code",
   "execution_count": null,
   "metadata": {},
   "outputs": [],
   "source": []
  }
 ],
 "metadata": {
  "interpreter": {
   "hash": "81248d4f47741c59d54854640730bc2709090d980144e2f19c3d8319ffea9c3c"
  },
  "kernelspec": {
   "display_name": "Python 3",
   "language": "python",
   "name": "python3"
  },
  "language_info": {
   "codemirror_mode": {
    "name": "ipython",
    "version": 3
   },
   "file_extension": ".py",
   "mimetype": "text/x-python",
   "name": "python",
   "nbconvert_exporter": "python",
   "pygments_lexer": "ipython3",
   "version": "3.8.8"
  }
 },
 "nbformat": 4,
 "nbformat_minor": 2
}
