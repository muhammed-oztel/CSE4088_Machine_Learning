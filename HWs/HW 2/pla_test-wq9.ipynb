{
 "cells": [
  {
   "cell_type": "code",
   "execution_count": 2,
   "metadata": {},
   "outputs": [],
   "source": [
    "import numpy as np\n",
    "import matplotlib.pyplot as plt\n",
    "import random\n",
    "import copy\n",
    "\n",
    "# dataset = np.random.uniform(-1,1, size=20).reshape(10,2)\n",
    "# dataset\n",
    "\n",
    "def target_function(): \n",
    "    target = np.random.uniform(-1,1, size=4).reshape(2,2)\n",
    "    return target\n",
    "\n",
    "# line = target_function()\n",
    "# line\n",
    "\n",
    "\n",
    "def find_boundary(p_x,p_y, line):\n",
    "    det = (line[0][1] - line[0][0]) * (p_y - line[1][0]) - (line[1][1]-line[1][0]) * (p_x-line[0][0]) \n",
    "    return 1 if det > 0 else -1\n",
    "\n",
    "def find_missclassified(weight,inserted, sign_list):\n",
    "    missclassified = []\n",
    "    for i in range(len(inserted)):\n",
    "        product = np.matmul(weight, inserted[i]) \n",
    "        g_sign = 0 \n",
    "        if product<0:g_sign = -1\n",
    "        elif product>0:g_sign= 1\n",
    "        if sign_list[i] !=g_sign:\n",
    "            missclassified.append(i)\n",
    "    return missclassified\n",
    "    \n",
    "def perceptron_la(weight, inserted, line, sign_list):\n",
    "#     missclassified = find_missclassified(weight, inserted, line)\n",
    "    counter = 0\n",
    "    while True:\n",
    "        missclassified = find_missclassified(weight,inserted, sign_list)\n",
    "        if missclassified == []:\n",
    "            break\n",
    "        rand_choice = random.choice(inserted[missclassified])\n",
    "        y_sign = find_boundary(rand_choice[1],rand_choice[2],line)\n",
    "        weight += y_sign * rand_choice\n",
    "        counter +=1\n",
    "    return counter\n",
    "\n",
    "\n",
    "def run_with_iter( num_of_iters, num_of_data):\n",
    "    list_of_counters = []\n",
    "    for i in range(num_of_iters):\n",
    "        dataset = np.random.uniform(-1,1, size=num_of_data*2).reshape(num_of_data,2)\n",
    "        line = target_function()\n",
    "        signs_of_dataset = []\n",
    "        for i in range(len(dataset)):\n",
    "            signs_of_dataset.append(find_boundary(dataset[i][0],dataset[i][1],line))\n",
    "        inserted = np.insert(dataset,0,1,axis=1)\n",
    "        weight = np.zeros(3)\n",
    "        count= perceptron_la(weight,inserted, line, signs_of_dataset) \n",
    "        list_of_counters.append(count)\n",
    "    return list_of_counters\n",
    "\n"
   ]
  },
  {
   "cell_type": "code",
   "execution_count": 3,
   "metadata": {},
   "outputs": [
    {
     "name": "stdout",
     "output_type": "stream",
     "text": [
      "Wall time: 441 ms\n"
     ]
    },
    {
     "data": {
      "text/plain": [
       "10.155"
      ]
     },
     "execution_count": 3,
     "metadata": {},
     "output_type": "execute_result"
    }
   ],
   "source": [
    "%%time\n",
    "result = (run_with_iter(1000, 10))\n",
    "np.average(result)"
   ]
  },
  {
   "cell_type": "code",
   "execution_count": 248,
   "metadata": {},
   "outputs": [
    {
     "name": "stdout",
     "output_type": "stream",
     "text": [
      "Wall time: 24.5 s\n"
     ]
    },
    {
     "data": {
      "text/plain": [
       "112.838"
      ]
     },
     "execution_count": 248,
     "metadata": {},
     "output_type": "execute_result"
    }
   ],
   "source": [
    "%%time\n",
    "result = (run_with_iter(1000, 100))\n",
    "np.average(result)"
   ]
  },
  {
   "cell_type": "code",
   "execution_count": 189,
   "metadata": {
    "scrolled": true
   },
   "outputs": [
    {
     "data": {
      "text/plain": [
       "0.0369"
      ]
     },
     "execution_count": 189,
     "metadata": {},
     "output_type": "execute_result"
    }
   ],
   "source": [
    "\n",
    "def linear_regression(weight, inserted, line, sign_list):\n",
    "    x_pseudo = np.linalg.pinv(inserted)\n",
    "    weight = np.matmul(x_pseudo, sign_list)\n",
    "    predict = np.sign(np.matmul(weight, inserted.T)) \n",
    "    miss_count = 0\n",
    "    for i in range(len(predict)):\n",
    "        if int(predict[i]) != sign_list[i]:miss_count+=1\n",
    "    #     print(predict, )\n",
    "    #     print(sign_list, )\n",
    "    return miss_count*1.0 / len(predict) ,weight\n",
    "\n",
    "def run_linreg_with_iter(num_of_iters, data_size):\n",
    "    list_of_probs = []\n",
    "    for i in range(data_size):\n",
    "        dataset = np.random.uniform(-1,1, size=data_size*2).reshape(data_size,2)\n",
    "        line = target_function()\n",
    "        signs_of_dataset = []\n",
    "        for i in range(len(dataset)):\n",
    "            signs_of_dataset.append(find_boundary(dataset[i][0],dataset[i][1],line))\n",
    "        inserted = np.insert(dataset,0,1,axis=1)\n",
    "        weight = np.zeros(3)\n",
    "        count, weight = linear_regression(weight,inserted, line, signs_of_dataset) \n",
    "        list_of_probs.append(count)\n",
    "    return list_of_probs, line, weight\n",
    "\n",
    "\n",
    "# 8. c \n",
    "result,line,weight = (run_linreg_with_iter(1000, 100))\n",
    "np.average(result)"
   ]
  },
  {
   "cell_type": "code",
   "execution_count": 192,
   "metadata": {},
   "outputs": [
    {
     "data": {
      "text/plain": [
       "0.038407"
      ]
     },
     "execution_count": 192,
     "metadata": {},
     "output_type": "execute_result"
    }
   ],
   "source": [
    "def q9(line, weight, num_of_iter, num_of_fresh):\n",
    "    fresh_probs = []\n",
    "    for i in range( num_of_iter ):\n",
    "        fresh_points = np.insert(np.random.uniform(-1,1, size=num_of_fresh*2).reshape(num_of_fresh,2),0,1,axis=1)\n",
    "\n",
    "        signs_of_fresh = []\n",
    "        for i in range(len(fresh_points)):\n",
    "            signs_of_fresh.append(find_boundary(fresh_points[i][1],fresh_points[i][2],line))\n",
    "        predict = np.sign(np.matmul(weight, fresh_points.T))\n",
    "\n",
    "        miss_count = 0\n",
    "        for i in range(len(predict)):\n",
    "            if int(predict[i]) != int(signs_of_fresh[i]):miss_count+=1\n",
    "        fresh_probs.append(miss_count / len(fresh_points))\n",
    "\n",
    "\n",
    "    return np.average(fresh_probs)\n",
    "# close to 0.01 answer C\n",
    "q9(line,weight, 1000,1000)"
   ]
  },
  {
   "cell_type": "code",
   "execution_count": 208,
   "metadata": {},
   "outputs": [
    {
     "ename": "IndexError",
     "evalue": "list index out of range",
     "output_type": "error",
     "traceback": [
      "\u001b[1;31m---------------------------------------------------------------------------\u001b[0m",
      "\u001b[1;31mIndexError\u001b[0m                                Traceback (most recent call last)",
      "\u001b[1;32m<ipython-input-208-689e177e5cd4>\u001b[0m in \u001b[0;36m<module>\u001b[1;34m\u001b[0m\n\u001b[0;32m      6\u001b[0m     \u001b[1;32mfor\u001b[0m \u001b[0mi\u001b[0m \u001b[1;32min\u001b[0m \u001b[0mrange\u001b[0m\u001b[1;33m(\u001b[0m\u001b[0mlen\u001b[0m\u001b[1;33m(\u001b[0m\u001b[0mdataset\u001b[0m\u001b[1;33m)\u001b[0m\u001b[1;33m)\u001b[0m\u001b[1;33m:\u001b[0m\u001b[1;33m\u001b[0m\u001b[1;33m\u001b[0m\u001b[0m\n\u001b[0;32m      7\u001b[0m         \u001b[0msign_list\u001b[0m\u001b[1;33m.\u001b[0m\u001b[0mappend\u001b[0m\u001b[1;33m(\u001b[0m\u001b[0mfind_boundary\u001b[0m\u001b[1;33m(\u001b[0m\u001b[0mdataset\u001b[0m\u001b[1;33m[\u001b[0m\u001b[0mi\u001b[0m\u001b[1;33m]\u001b[0m\u001b[1;33m[\u001b[0m\u001b[1;36m0\u001b[0m\u001b[1;33m]\u001b[0m\u001b[1;33m,\u001b[0m\u001b[0mdataset\u001b[0m\u001b[1;33m[\u001b[0m\u001b[0mi\u001b[0m\u001b[1;33m]\u001b[0m\u001b[1;33m[\u001b[0m\u001b[1;36m1\u001b[0m\u001b[1;33m]\u001b[0m\u001b[1;33m,\u001b[0m\u001b[0mline\u001b[0m\u001b[1;33m)\u001b[0m\u001b[1;33m)\u001b[0m\u001b[1;33m\u001b[0m\u001b[1;33m\u001b[0m\u001b[0m\n\u001b[1;32m----> 8\u001b[1;33m     \u001b[0mcount\u001b[0m\u001b[1;33m=\u001b[0m \u001b[0mperceptron_la\u001b[0m\u001b[1;33m(\u001b[0m\u001b[0mweight\u001b[0m\u001b[1;33m,\u001b[0m \u001b[0minserted\u001b[0m\u001b[1;33m,\u001b[0m \u001b[0mline\u001b[0m\u001b[1;33m,\u001b[0m \u001b[0msign_list\u001b[0m\u001b[1;33m)\u001b[0m\u001b[1;33m\u001b[0m\u001b[1;33m\u001b[0m\u001b[0m\n\u001b[0m\u001b[0;32m      9\u001b[0m     \u001b[0mpla_counts\u001b[0m\u001b[1;33m.\u001b[0m\u001b[0mappend\u001b[0m\u001b[1;33m(\u001b[0m\u001b[0mcount\u001b[0m\u001b[1;33m)\u001b[0m\u001b[1;33m\u001b[0m\u001b[1;33m\u001b[0m\u001b[0m\n\u001b[0;32m     10\u001b[0m \u001b[0mnp\u001b[0m\u001b[1;33m.\u001b[0m\u001b[0maverage\u001b[0m\u001b[1;33m(\u001b[0m\u001b[0mpla_counts\u001b[0m\u001b[1;33m)\u001b[0m\u001b[1;33m\u001b[0m\u001b[1;33m\u001b[0m\u001b[0m\n",
      "\u001b[1;32m<ipython-input-2-338fe485757d>\u001b[0m in \u001b[0;36mperceptron_la\u001b[1;34m(weight, inserted, line, sign_list)\u001b[0m\n\u001b[0;32m     34\u001b[0m     \u001b[0mcounter\u001b[0m \u001b[1;33m=\u001b[0m \u001b[1;36m0\u001b[0m\u001b[1;33m\u001b[0m\u001b[1;33m\u001b[0m\u001b[0m\n\u001b[0;32m     35\u001b[0m     \u001b[1;32mwhile\u001b[0m \u001b[1;32mTrue\u001b[0m\u001b[1;33m:\u001b[0m\u001b[1;33m\u001b[0m\u001b[1;33m\u001b[0m\u001b[0m\n\u001b[1;32m---> 36\u001b[1;33m         \u001b[0mmissclassified\u001b[0m \u001b[1;33m=\u001b[0m \u001b[0mfind_missclassified\u001b[0m\u001b[1;33m(\u001b[0m\u001b[0mweight\u001b[0m\u001b[1;33m,\u001b[0m\u001b[0minserted\u001b[0m\u001b[1;33m,\u001b[0m \u001b[0msign_list\u001b[0m\u001b[1;33m)\u001b[0m\u001b[1;33m\u001b[0m\u001b[1;33m\u001b[0m\u001b[0m\n\u001b[0m\u001b[0;32m     37\u001b[0m         \u001b[1;32mif\u001b[0m \u001b[0mmissclassified\u001b[0m \u001b[1;33m==\u001b[0m \u001b[1;33m[\u001b[0m\u001b[1;33m]\u001b[0m\u001b[1;33m:\u001b[0m\u001b[1;33m\u001b[0m\u001b[1;33m\u001b[0m\u001b[0m\n\u001b[0;32m     38\u001b[0m             \u001b[1;32mbreak\u001b[0m\u001b[1;33m\u001b[0m\u001b[1;33m\u001b[0m\u001b[0m\n",
      "\u001b[1;32m<ipython-input-2-338fe485757d>\u001b[0m in \u001b[0;36mfind_missclassified\u001b[1;34m(weight, inserted, sign_list)\u001b[0m\n\u001b[0;32m     26\u001b[0m         \u001b[1;32mif\u001b[0m \u001b[0mproduct\u001b[0m\u001b[1;33m<\u001b[0m\u001b[1;36m0\u001b[0m\u001b[1;33m:\u001b[0m\u001b[0mg_sign\u001b[0m \u001b[1;33m=\u001b[0m \u001b[1;33m-\u001b[0m\u001b[1;36m1\u001b[0m\u001b[1;33m\u001b[0m\u001b[1;33m\u001b[0m\u001b[0m\n\u001b[0;32m     27\u001b[0m         \u001b[1;32melif\u001b[0m \u001b[0mproduct\u001b[0m\u001b[1;33m>\u001b[0m\u001b[1;36m0\u001b[0m\u001b[1;33m:\u001b[0m\u001b[0mg_sign\u001b[0m\u001b[1;33m=\u001b[0m \u001b[1;36m1\u001b[0m\u001b[1;33m\u001b[0m\u001b[1;33m\u001b[0m\u001b[0m\n\u001b[1;32m---> 28\u001b[1;33m         \u001b[1;32mif\u001b[0m \u001b[0msign_list\u001b[0m\u001b[1;33m[\u001b[0m\u001b[0mi\u001b[0m\u001b[1;33m]\u001b[0m \u001b[1;33m!=\u001b[0m\u001b[0mg_sign\u001b[0m\u001b[1;33m:\u001b[0m\u001b[1;33m\u001b[0m\u001b[1;33m\u001b[0m\u001b[0m\n\u001b[0m\u001b[0;32m     29\u001b[0m             \u001b[0mmissclassified\u001b[0m\u001b[1;33m.\u001b[0m\u001b[0mappend\u001b[0m\u001b[1;33m(\u001b[0m\u001b[0mi\u001b[0m\u001b[1;33m)\u001b[0m\u001b[1;33m\u001b[0m\u001b[1;33m\u001b[0m\u001b[0m\n\u001b[0;32m     30\u001b[0m     \u001b[1;32mreturn\u001b[0m \u001b[0mmissclassified\u001b[0m\u001b[1;33m\u001b[0m\u001b[1;33m\u001b[0m\u001b[0m\n",
      "\u001b[1;31mIndexError\u001b[0m: list index out of range"
     ]
    }
   ],
   "source": [
    "\n",
    "result, line, weight = (run_linreg_with_iter(1000, 10))\n",
    "pla_counts = []\n",
    "for i in range(1000):\n",
    "    dataset = np.random.uniform(-1,1, size=10*2).reshape(10,2)\n",
    "    sign_list=[]\n",
    "    for i in range(len(dataset)):\n",
    "        sign_list.append(find_boundary(dataset[i][0],dataset[i][1],line))\n",
    "    count= perceptron_la(weight, inserted, line, sign_list)\n",
    "    pla_counts.append(count)\n",
    "np.average(pla_counts)\n",
    "\n",
    "\n"
   ]
  },
  {
   "cell_type": "code",
   "execution_count": null,
   "metadata": {},
   "outputs": [],
   "source": []
  }
 ],
 "metadata": {
  "interpreter": {
   "hash": "81248d4f47741c59d54854640730bc2709090d980144e2f19c3d8319ffea9c3c"
  },
  "kernelspec": {
   "display_name": "Python 3",
   "language": "python",
   "name": "python3"
  },
  "language_info": {
   "codemirror_mode": {
    "name": "ipython",
    "version": 3
   },
   "file_extension": ".py",
   "mimetype": "text/x-python",
   "name": "python",
   "nbconvert_exporter": "python",
   "pygments_lexer": "ipython3",
   "version": "3.8.8"
  }
 },
 "nbformat": 4,
 "nbformat_minor": 2
}
