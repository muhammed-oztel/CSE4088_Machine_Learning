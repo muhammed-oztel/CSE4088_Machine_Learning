{
 "cells": [
  {
   "cell_type": "code",
   "execution_count": 15,
   "id": "435e062c",
   "metadata": {},
   "outputs": [],
   "source": [
    "import numpy as np\n",
    "import matplotlib.pyplot as plt\n",
    "import random\n",
    "import copy\n",
    "\n",
    "def target_function(): \n",
    "    target = np.random.uniform(-1,1, size=4).reshape(2,2)\n",
    "    return target\n",
    "\n",
    "def find_boundary(p_x,p_y, line):\n",
    "    det = (line[0][1] - line[0][0]) * (p_y - line[1][0]) - (line[1][1]-line[1][0]) * (p_x-line[0][0]) \n",
    "    return 1 if det > 0 else -1\n",
    "\n",
    "def find_missclassified(weight,inserted, sign_list):\n",
    "    missclassified = []\n",
    "    for i in range(len(inserted)):\n",
    "        product = np.matmul(weight, inserted[i]) \n",
    "        g_sign = 0 \n",
    "        if product<0:g_sign = -1\n",
    "        elif product>0:g_sign= 1\n",
    "        if sign_list[i] !=g_sign:\n",
    "            missclassified.append(inserted[i])\n",
    "    return missclassified\n",
    "    \n",
    "def perceptron_la(weight, inserted, line, sign_list):\n",
    "    counter = 0\n",
    "    while True:\n",
    "        missclassified = find_missclassified(weight,inserted, sign_list)\n",
    "        if missclassified == []:\n",
    "            break\n",
    "        rand_choice = random.choice(missclassified)\n",
    "        y_sign = find_boundary(rand_choice[1],rand_choice[2],line)\n",
    "        weight += y_sign * rand_choice\n",
    "        counter +=1\n",
    "    return counter\n",
    "\n",
    "\n",
    "def run_with_iter( num_of_iters, num_of_data):\n",
    "    list_of_counters = []\n",
    "    for i in range(num_of_iters):\n",
    "        dataset = np.random.uniform(-1,1, size=num_of_data*2).reshape(num_of_data,2)\n",
    "        line = target_function()\n",
    "        signs_of_dataset = []\n",
    "        for i in range(len(dataset)):\n",
    "            signs_of_dataset.append(find_boundary(dataset[i][0],dataset[i][1],line))\n",
    "        inserted = np.insert(dataset,0,1,axis=1)\n",
    "        weight = np.zeros(3)\n",
    "        count= perceptron_la(weight,inserted, line, signs_of_dataset) \n",
    "        list_of_counters.append(count)\n",
    "    return list_of_counters\n"
   ]
  },
  {
   "cell_type": "code",
   "execution_count": 16,
   "id": "806e4ad4",
   "metadata": {},
   "outputs": [
    {
     "name": "stdout",
     "output_type": "stream",
     "text": [
      "Wall time: 386 ms\n"
     ]
    },
    {
     "data": {
      "text/plain": [
       "10.197"
      ]
     },
     "execution_count": 16,
     "metadata": {},
     "output_type": "execute_result"
    }
   ],
   "source": [
    "%%time\n",
    "result = (run_with_iter(1000, 10))\n",
    "np.average(result)"
   ]
  },
  {
   "cell_type": "code",
   "execution_count": 4,
   "id": "a303f866",
   "metadata": {
    "scrolled": true
   },
   "outputs": [
    {
     "name": "stdout",
     "output_type": "stream",
     "text": [
      "Wall time: 24 s\n"
     ]
    },
    {
     "data": {
      "text/plain": [
       "113.632"
      ]
     },
     "execution_count": 4,
     "metadata": {},
     "output_type": "execute_result"
    }
   ],
   "source": [
    "%%time\n",
    "result = (run_with_iter(1000, 100))\n",
    "np.average(result)"
   ]
  },
  {
   "cell_type": "code",
   "execution_count": null,
   "id": "3a93d847",
   "metadata": {},
   "outputs": [],
   "source": []
  }
 ],
 "metadata": {
  "kernelspec": {
   "display_name": "Python 3",
   "language": "python",
   "name": "python3"
  },
  "language_info": {
   "codemirror_mode": {
    "name": "ipython",
    "version": 3
   },
   "file_extension": ".py",
   "mimetype": "text/x-python",
   "name": "python",
   "nbconvert_exporter": "python",
   "pygments_lexer": "ipython3",
   "version": "3.8.8"
  }
 },
 "nbformat": 4,
 "nbformat_minor": 5
}
