{
 "cells": [
  {
   "cell_type": "markdown",
   "id": "7cade254",
   "metadata": {},
   "source": [
    "# Homework 3 \n",
    "\n",
    "\n",
    "_Author:_ Muhammed Fatih Öztel\n",
    "\n",
    "_Student ID:_ 150119907\n"
   ]
  },
  {
   "cell_type": "code",
   "execution_count": 1,
   "id": "d9334d06",
   "metadata": {},
   "outputs": [],
   "source": [
    "import numpy as np\n",
    "import math"
   ]
  },
  {
   "cell_type": "markdown",
   "id": "c91cf7a6",
   "metadata": {},
   "source": [
    "## Gradient Descent"
   ]
  },
  {
   "cell_type": "code",
   "execution_count": 16,
   "id": "cc0251c6",
   "metadata": {},
   "outputs": [],
   "source": [
    "niu = 0.1\n",
    "def error_surface(u, v):\n",
    "    return ((u* (np.exp(v) ) )-( 2 * v * (np.exp(-u))))**2\n",
    "     \n",
    "def partial_u(u, v):\n",
    "    return 2 * (np.exp(v) + 2*v*(np.exp(-u))) * ( u*(np.exp(v)) - 2 * v *(np.exp(-u)))\n",
    "def partial_v(u, v):\n",
    "    return 2 * ( u * ( np.exp(v)) - 2* (np.exp(-u)) )  * ( u*(np.exp(v)) - 2 * v *(np.exp(-u)))"
   ]
  },
  {
   "cell_type": "markdown",
   "id": "127886a5",
   "metadata": {},
   "source": [
    "### Question 5"
   ]
  },
  {
   "cell_type": "code",
   "execution_count": 29,
   "id": "368ce87b",
   "metadata": {},
   "outputs": [
    {
     "data": {
      "text/plain": [
       "10"
      ]
     },
     "execution_count": 29,
     "metadata": {},
     "output_type": "execute_result"
    }
   ],
   "source": [
    "u, v = 1, 1\n",
    "e = error_surface(u, v)\n",
    "counter = 0\n",
    "while e >= 1e-14:\n",
    "    u,v = u - niu * partial_u(u, v), v- niu *partial_v(u, v)\n",
    "    e =  error_surface(u, v)\n",
    "    counter += 1\n",
    "counter #answer is 10 D"
   ]
  },
  {
   "cell_type": "markdown",
   "id": "a14074ce",
   "metadata": {},
   "source": [
    "### Question 6"
   ]
  },
  {
   "cell_type": "code",
   "execution_count": 30,
   "id": "e7a548a8",
   "metadata": {},
   "outputs": [
    {
     "data": {
      "text/plain": [
       "(0.04473629039778207, 0.023958714099141746)"
      ]
     },
     "execution_count": 30,
     "metadata": {},
     "output_type": "execute_result"
    }
   ],
   "source": [
    "u, v # which is very close to E"
   ]
  },
  {
   "cell_type": "markdown",
   "id": "15a66f93",
   "metadata": {},
   "source": [
    "### Question 7"
   ]
  },
  {
   "cell_type": "code",
   "execution_count": 31,
   "id": "a9094c31",
   "metadata": {},
   "outputs": [
    {
     "data": {
      "text/plain": [
       "0.13981379199615315"
      ]
     },
     "execution_count": 31,
     "metadata": {},
     "output_type": "execute_result"
    }
   ],
   "source": [
    "u, v = 1, 1\n",
    "e = error_surface(u, v)\n",
    "counter=  0\n",
    "while counter<15:\n",
    "    new_u = u - 0.1 * partial_u(u, v) \n",
    "    e =  error_surface(newu, v)\n",
    "    u = newu\n",
    "    new_v = v - 0.1 * partial_v(u, v) \n",
    "    v = newv\n",
    "    e =  error_surface(u, v)\n",
    "    counter+=1\n",
    "e # answer is close to 10^-1 which is A"
   ]
  },
  {
   "cell_type": "markdown",
   "id": "df68d1c1",
   "metadata": {},
   "source": [
    "## Logistic Regression"
   ]
  },
  {
   "cell_type": "code",
   "execution_count": null,
   "id": "43c23e59",
   "metadata": {},
   "outputs": [],
   "source": []
  },
  {
   "cell_type": "code",
   "execution_count": null,
   "id": "a56e5367",
   "metadata": {},
   "outputs": [],
   "source": []
  },
  {
   "cell_type": "markdown",
   "id": "b7d9cc39",
   "metadata": {},
   "source": [
    "## Regularization with weight decay"
   ]
  },
  {
   "cell_type": "code",
   "execution_count": null,
   "id": "93c0e7ec",
   "metadata": {},
   "outputs": [],
   "source": []
  },
  {
   "cell_type": "code",
   "execution_count": null,
   "id": "f37e002f",
   "metadata": {},
   "outputs": [],
   "source": []
  },
  {
   "cell_type": "markdown",
   "id": "c263dc2b",
   "metadata": {},
   "source": [
    "## Neural Networks"
   ]
  },
  {
   "cell_type": "code",
   "execution_count": null,
   "id": "cdc3b410",
   "metadata": {},
   "outputs": [],
   "source": []
  },
  {
   "cell_type": "code",
   "execution_count": null,
   "id": "8825b164",
   "metadata": {},
   "outputs": [],
   "source": []
  }
 ],
 "metadata": {
  "kernelspec": {
   "display_name": "Python 3",
   "language": "python",
   "name": "python3"
  },
  "language_info": {
   "codemirror_mode": {
    "name": "ipython",
    "version": 3
   },
   "file_extension": ".py",
   "mimetype": "text/x-python",
   "name": "python",
   "nbconvert_exporter": "python",
   "pygments_lexer": "ipython3",
   "version": "3.8.8"
  }
 },
 "nbformat": 4,
 "nbformat_minor": 5
}
